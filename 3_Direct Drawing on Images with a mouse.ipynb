{
 "cells": [
  {
   "cell_type": "markdown",
   "metadata": {},
   "source": [
    "## SCRIPT 1: Connecting a Function for Drawing"
   ]
  },
  {
   "cell_type": "code",
   "execution_count": 1,
   "metadata": {},
   "outputs": [],
   "source": [
    "import cv2\n",
    "import numpy as np\n",
    "import matplotlib.pyplot as plt\n",
    "%matplotlib inline\n",
    "\n",
    "\n",
    "####################\n",
    "##FUNCTION##########\n",
    "####################\n",
    "\n",
    "def draw_circle(event,x,y,flags,param):\n",
    "    \n",
    "    if event==cv2.EVENT_LBUTTONDOWN:\n",
    "        cv2.circle(img,(x,y),100,(0,255,0),-1)\n",
    "\n",
    "cv2.namedWindow(winname=\"my_drawing\")\n",
    "\n",
    "cv2.setMouseCallback(\"my_drawing\",draw_circle)\n",
    "\n",
    "\n",
    "\n",
    "\n",
    "##################\n",
    "####SHOWING IMAGE WITH OCV####\n",
    "###############################\n",
    "\n",
    "img=np.zeros((512,512,3),np.uint8)\n",
    "while True:\n",
    "    cv2.imshow('my_drawing',img)\n",
    "    \n",
    "    if cv2.waitKey(20) & 0xFF==27:\n",
    "        break\n",
    "cv2.destroyAllWindows()"
   ]
  },
  {
   "cell_type": "markdown",
   "metadata": {},
   "source": [
    "## SCRIPT 2: Adding Functionality with Event Choices"
   ]
  },
  {
   "cell_type": "code",
   "execution_count": 4,
   "metadata": {},
   "outputs": [],
   "source": [
    "import cv2\n",
    "import numpy as np\n",
    "import matplotlib.pyplot as plt\n",
    "%matplotlib inline\n",
    "\n",
    "\n",
    "####################\n",
    "##FUNCTION##########\n",
    "####################\n",
    "\n",
    "def draw_circle(event,x,y,flags,param):\n",
    "    \n",
    "    if event==cv2.EVENT_LBUTTONDOWN:\n",
    "        cv2.circle(img,(x,y),100,(0,255,0),-1)\n",
    "    elif event == cv2.EVENT_RBUTTONDOWN:\n",
    "        cv2.circle(img,(x,y),100,(0,0,255),-1)\n",
    "\n",
    "\n",
    "cv2.namedWindow(winname=\"my_drawing\")\n",
    "\n",
    "cv2.setMouseCallback(\"my_drawing\",draw_circle)\n",
    "\n",
    "\n",
    "\n",
    "\n",
    "##################\n",
    "####SHOWING IMAGE WITH OCV####\n",
    "###############################\n",
    "\n",
    "img=np.zeros((512,512,3),np.uint8)\n",
    "while True:\n",
    "    cv2.imshow('my_drawing',img)\n",
    "    \n",
    "    if cv2.waitKey(20) & 0xFF==27:\n",
    "        break\n",
    "cv2.destroyAllWindows()"
   ]
  },
  {
   "cell_type": "markdown",
   "metadata": {},
   "source": [
    "# SCRIPT 3: Dragging with Mouse"
   ]
  },
  {
   "cell_type": "code",
   "execution_count": 8,
   "metadata": {},
   "outputs": [],
   "source": [
    "import cv2\n",
    "import numpy as np\n",
    "\n",
    "###VARIABLES####\n",
    "drawing = False\n",
    "ix,iy= -1,-1\n",
    "\n",
    "\n",
    "#####FUNCTION####\n",
    "def rectangle (event,x,y,flags,params):\n",
    "    global drawing ,ix,iy\n",
    "    \n",
    "    if event==cv2.EVENT_LBUTTONDOWN:\n",
    "        #drawing is set to True\n",
    "        drawing=True\n",
    "        \n",
    "        #we will note the current location in ix and iy from x,y of the mouse\n",
    "        ix,iy= x,y\n",
    "    elif event==cv2.EVENT_MOUSEMOVE:\n",
    "        if drawing == True:\n",
    "            #note ix iy are the origin position uptill x and y (fraged mouse position)\n",
    "            cv2.rectangle(img,(ix,iy),(x,y),color=(255,0,255),thickness=-1)\n",
    "    elif event==cv2.EVENT_LBUTTONUP:\n",
    "        drawing=False\n",
    "        cv2.rectangle(img,(ix,iy),(x,y),color=(255,0,255),thickness=-1)\n",
    "            \n",
    "        \n",
    "\n",
    "\n",
    "#####SHOW IMAGE####\n",
    "img=np.zeros((512,512,3))\n",
    "\n",
    "cv2.namedWindow(\"my_drawing3\")\n",
    "cv2.setMouseCallback(\"my_drawing3\",rectangle)\n",
    "\n",
    "while True:\n",
    "    cv2.imshow(\"my_drawing3\",img)\n",
    "    if cv2.waitKey(20) & 0xFF == 27:\n",
    "        break\n",
    "cv2.destroyAllWindows()\n"
   ]
  },
  {
   "cell_type": "code",
   "execution_count": null,
   "metadata": {},
   "outputs": [],
   "source": []
  }
 ],
 "metadata": {
  "kernelspec": {
   "display_name": "Python 3",
   "language": "python",
   "name": "python3"
  },
  "language_info": {
   "codemirror_mode": {
    "name": "ipython",
    "version": 3
   },
   "file_extension": ".py",
   "mimetype": "text/x-python",
   "name": "python",
   "nbconvert_exporter": "python",
   "pygments_lexer": "ipython3",
   "version": "3.6.6"
  }
 },
 "nbformat": 4,
 "nbformat_minor": 2
}
